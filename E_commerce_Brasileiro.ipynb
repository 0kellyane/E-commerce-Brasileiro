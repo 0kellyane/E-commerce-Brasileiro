{
  "nbformat": 4,
  "nbformat_minor": 0,
  "metadata": {
    "colab": {
      "provenance": [],
      "mount_file_id": "1wRWZuhgjDeG7NmHeGg7rq4__wAg5riHd",
      "authorship_tag": "ABX9TyPeGco7tRs2m1Jzn2Fydznk",
      "include_colab_link": true
    },
    "kernelspec": {
      "name": "python3",
      "display_name": "Python 3"
    },
    "language_info": {
      "name": "python"
    }
  },
  "cells": [
    {
      "cell_type": "markdown",
      "metadata": {
        "id": "view-in-github",
        "colab_type": "text"
      },
      "source": [
        "<a href=\"https://colab.research.google.com/github/0kellyane/E-commerce-Brasileiro/blob/main/E_commerce_Brasileiro.ipynb\" target=\"_parent\"><img src=\"https://colab.research.google.com/assets/colab-badge.svg\" alt=\"Open In Colab\"/></a>"
      ]
    },
    {
      "cell_type": "code",
      "execution_count": 1,
      "metadata": {
        "id": "pw8m_vGzLKD1",
        "collapsed": true
      },
      "outputs": [],
      "source": [
        "import pandas as pd\n",
        "import sqlite3\n",
        "from sqlalchemy import create_engine\n",
        "\n"
      ]
    },
    {
      "cell_type": "code",
      "source": [
        "from google.colab import drive\n",
        "drive.mount('/content/drive')"
      ],
      "metadata": {
        "colab": {
          "base_uri": "https://localhost:8080/"
        },
        "id": "JHG9GeEeqqCs",
        "outputId": "742253c8-7909-4985-d9cf-a8b0ca76e95e"
      },
      "execution_count": 2,
      "outputs": [
        {
          "output_type": "stream",
          "name": "stdout",
          "text": [
            "Drive already mounted at /content/drive; to attempt to forcibly remount, call drive.mount(\"/content/drive\", force_remount=True).\n"
          ]
        }
      ]
    },
    {
      "cell_type": "code",
      "source": [
        "# Carregamento dos arquivos CSV\n",
        "olist_products = pd.read_csv('drive/MyDrive/Ecommerce/olist_products_dataset.csv')\n",
        "olist_order_items = pd.read_csv('drive/MyDrive/Ecommerce/olist_order_items_dataset.csv')\n",
        "olist_customers = pd.read_csv('drive/MyDrive/Ecommerce/olist_customers_dataset.csv')\n",
        "olist_geolocation = pd.read_csv('drive/MyDrive/Ecommerce/olist_geolocation_dataset.csv')\n",
        "olist_order_reviews = pd.read_csv('drive/MyDrive/Ecommerce/olist_order_reviews_dataset.csv')\n",
        "olist_order_payments = pd.read_csv('drive/MyDrive/Ecommerce/olist_order_payments_dataset.csv')\n",
        "olist_sellers = pd.read_csv('drive/MyDrive/Ecommerce/olist_sellers_dataset.csv')\n",
        "olist_orders = pd.read_csv('drive/MyDrive/Ecommerce/olist_orders_dataset.csv')"
      ],
      "metadata": {
        "id": "wVGXzxZ2sdB8"
      },
      "execution_count": 3,
      "outputs": []
    },
    {
      "cell_type": "code",
      "source": [
        "#fazendo as remoções de dados ausentes\n",
        "products = olist_products.dropna()\n",
        "order_items = olist_order_items.dropna()\n",
        "customers = olist_customers.dropna()\n",
        "geolocation = olist_geolocation.dropna()\n",
        "reviews = olist_order_reviews.dropna()\n",
        "payments = olist_order_payments.dropna()\n",
        "sellers = olist_sellers.dropna()\n",
        "orders = olist_orders.dropna()\n",
        "\n",
        "# Visualizando o resultado\n",
        "print(olist_products)"
      ],
      "metadata": {
        "id": "HforHbwq0eP1",
        "colab": {
          "base_uri": "https://localhost:8080/"
        },
        "collapsed": true,
        "outputId": "b08d343a-3a68-4ef1-ba27-bf02bafeb647"
      },
      "execution_count": 4,
      "outputs": [
        {
          "output_type": "stream",
          "name": "stdout",
          "text": [
            "                             product_id              product_category_name  \\\n",
            "0      1e9e8ef04dbcff4541ed26657ea517e5                         perfumaria   \n",
            "1      3aa071139cb16b67ca9e5dea641aaa2f                              artes   \n",
            "2      96bd76ec8810374ed1b65e291975717f                      esporte_lazer   \n",
            "3      cef67bcfe19066a932b7673e239eb23d                              bebes   \n",
            "4      9dc1a7de274444849c219cff195d0b71              utilidades_domesticas   \n",
            "...                                 ...                                ...   \n",
            "32946  a0b7d5a992ccda646f2d34e418fff5a0                   moveis_decoracao   \n",
            "32947  bf4538d88321d0fd4412a93c974510e6  construcao_ferramentas_iluminacao   \n",
            "32948  9a7c6041fa9592d9d9ef6cfe62a71f8c                    cama_mesa_banho   \n",
            "32949  83808703fc0706a22e264b9d75f04a2e             informatica_acessorios   \n",
            "32950  106392145fca363410d287a815be6de4                    cama_mesa_banho   \n",
            "\n",
            "       product_name_lenght  product_description_lenght  product_photos_qty  \\\n",
            "0                     40.0                       287.0                 1.0   \n",
            "1                     44.0                       276.0                 1.0   \n",
            "2                     46.0                       250.0                 1.0   \n",
            "3                     27.0                       261.0                 1.0   \n",
            "4                     37.0                       402.0                 4.0   \n",
            "...                    ...                         ...                 ...   \n",
            "32946                 45.0                        67.0                 2.0   \n",
            "32947                 41.0                       971.0                 1.0   \n",
            "32948                 50.0                       799.0                 1.0   \n",
            "32949                 60.0                       156.0                 2.0   \n",
            "32950                 58.0                       309.0                 1.0   \n",
            "\n",
            "       product_weight_g  product_length_cm  product_height_cm  \\\n",
            "0                 225.0               16.0               10.0   \n",
            "1                1000.0               30.0               18.0   \n",
            "2                 154.0               18.0                9.0   \n",
            "3                 371.0               26.0                4.0   \n",
            "4                 625.0               20.0               17.0   \n",
            "...                 ...                ...                ...   \n",
            "32946           12300.0               40.0               40.0   \n",
            "32947            1700.0               16.0               19.0   \n",
            "32948            1400.0               27.0                7.0   \n",
            "32949             700.0               31.0               13.0   \n",
            "32950            2083.0               12.0                2.0   \n",
            "\n",
            "       product_width_cm  \n",
            "0                  14.0  \n",
            "1                  20.0  \n",
            "2                  15.0  \n",
            "3                  26.0  \n",
            "4                  13.0  \n",
            "...                 ...  \n",
            "32946              40.0  \n",
            "32947              16.0  \n",
            "32948              27.0  \n",
            "32949              20.0  \n",
            "32950               7.0  \n",
            "\n",
            "[32951 rows x 9 columns]\n"
          ]
        }
      ]
    },
    {
      "cell_type": "code",
      "source": [
        "from sqlalchemy import text\n",
        "# Criar uma conexão SQLite\n",
        "engine = create_engine('sqlite:///ecommerce.db')\n",
        "\n",
        "\n",
        "# Carregar os dataframes para o banco de dados SQLite\n",
        "products.to_sql('products', engine, index=False, if_exists='replace')\n",
        "order_items.to_sql('order_items', engine, index=False, if_exists='replace')\n",
        "customers.to_sql('customers', engine, index=False, if_exists='replace')\n",
        "geolocation.to_sql('geolocation', engine, index=False, if_exists='replace')\n",
        "reviews.to_sql('reviews', engine, index=False, if_exists='replace')\n",
        "payments.to_sql('payments', engine, index=False, if_exists='replace')\n",
        "sellers.to_sql('sellers', engine, index=False, if_exists='replace')\n",
        "orders.to_sql('orders', engine, index=False, if_exists='replace')\n",
        "\n",
        "# Verificar se os dados foram carregados corretamente\n",
        "with engine.connect() as connection:\n",
        "    result = connection.execute(text(\"SELECT name FROM sqlite_master WHERE type='table';\"))\n",
        "    for row in result:\n",
        "        print(row)"
      ],
      "metadata": {
        "id": "YLQs_ZMcdHSf",
        "colab": {
          "base_uri": "https://localhost:8080/"
        },
        "collapsed": true,
        "outputId": "9447dd99-4c3b-42f7-87d1-9ab9e5cf443e"
      },
      "execution_count": 5,
      "outputs": [
        {
          "output_type": "stream",
          "name": "stdout",
          "text": [
            "('products',)\n",
            "('order_items',)\n",
            "('customers',)\n",
            "('geolocation',)\n",
            "('reviews',)\n",
            "('payments',)\n",
            "('sellers',)\n",
            "('orders',)\n"
          ]
        }
      ]
    },
    {
      "cell_type": "code",
      "source": [
        "# Realizar consultas para verificar os dados\n",
        "with engine.connect() as connection:\n",
        "    result = connection.execute(text(\"SELECT * FROM products LIMIT 5;\"))\n",
        "    for row in result:\n",
        "        print(row)\n",
        "\n",
        "    result = connection.execute(text(\"SELECT * FROM order_items LIMIT 5;\"))\n",
        "    for row in result:\n",
        "        print(row)\n"
      ],
      "metadata": {
        "colab": {
          "base_uri": "https://localhost:8080/"
        },
        "collapsed": true,
        "id": "EfD0Q88ETy7y",
        "outputId": "d542a1f5-ab30-42ce-d78d-37bbffcba753"
      },
      "execution_count": 6,
      "outputs": [
        {
          "output_type": "stream",
          "name": "stdout",
          "text": [
            "('1e9e8ef04dbcff4541ed26657ea517e5', 'perfumaria', 40.0, 287.0, 1.0, 225.0, 16.0, 10.0, 14.0)\n",
            "('3aa071139cb16b67ca9e5dea641aaa2f', 'artes', 44.0, 276.0, 1.0, 1000.0, 30.0, 18.0, 20.0)\n",
            "('96bd76ec8810374ed1b65e291975717f', 'esporte_lazer', 46.0, 250.0, 1.0, 154.0, 18.0, 9.0, 15.0)\n",
            "('cef67bcfe19066a932b7673e239eb23d', 'bebes', 27.0, 261.0, 1.0, 371.0, 26.0, 4.0, 26.0)\n",
            "('9dc1a7de274444849c219cff195d0b71', 'utilidades_domesticas', 37.0, 402.0, 4.0, 625.0, 20.0, 17.0, 13.0)\n",
            "('00010242fe8c5a6d1ba2dd792cb16214', 1, '4244733e06e7ecb4970a6e2683c13e61', '48436dade18ac8b2bce089ec2a041202', '2017-09-19 09:45:35', 58.9, 13.29)\n",
            "('00018f77f2f0320c557190d7a144bdd3', 1, 'e5f2d52b802189ee658865ca93d83a8f', 'dd7ddc04e1b6c2c614352b383efe2d36', '2017-05-03 11:05:13', 239.9, 19.93)\n",
            "('000229ec398224ef6ca0657da4fc703e', 1, 'c777355d18b72b67abbeef9df44fd0fd', '5b51032eddd242adc84c38acab88f23d', '2018-01-18 14:48:30', 199.0, 17.87)\n",
            "('00024acbcdf0a6daa1e931b038114c75', 1, '7634da152a4610f1595efa32f14722fc', '9d7a1d34a5052409006425275ba1c2b4', '2018-08-15 10:10:18', 12.99, 12.79)\n",
            "('00042b26cf59d7ce69dfabb4e55b4fd9', 1, 'ac6c3623068f30de03045865e4e10089', 'df560393f3a51e74553ab94004ba5c87', '2017-02-13 13:57:51', 199.9, 18.14)\n"
          ]
        }
      ]
    },
    {
      "cell_type": "code",
      "source": [
        "#Volume de vendas por categoria\n",
        "query = \"\"\"\n",
        "SELECT\n",
        "    strftime('%Y-%m', orders.order_purchase_timestamp) AS month,\n",
        "    products.product_category_name,\n",
        "    COUNT(order_items.order_id) AS total_sales\n",
        "FROM\n",
        "    orders\n",
        "JOIN\n",
        "    order_items ON orders.order_id = order_items.order_id\n",
        "JOIN\n",
        "    products ON order_items.product_id = products.product_id\n",
        "GROUP BY\n",
        "    month, products.product_category_name\n",
        "ORDER BY\n",
        "    month, total_sales DESC;\n",
        "\"\"\"\n",
        "\n",
        "# Executar a consulta e mostrar o resultado\n",
        "df_volume_vendas = pd.read_sql(query, engine)\n",
        "print(df_volume_vendas.head())\n"
      ],
      "metadata": {
        "colab": {
          "base_uri": "https://localhost:8080/"
        },
        "id": "WaMJD7LTT7BA",
        "outputId": "78d0e3cc-5ed6-4738-bc6c-dfa8f7a7f134"
      },
      "execution_count": 7,
      "outputs": [
        {
          "output_type": "stream",
          "name": "stdout",
          "text": [
            "     month product_category_name  total_sales\n",
            "0  2016-09          beleza_saude            3\n",
            "1  2016-10      moveis_decoracao           65\n",
            "2  2016-10          beleza_saude           41\n",
            "3  2016-10            perfumaria           31\n",
            "4  2016-10            brinquedos           25\n"
          ]
        }
      ]
    },
    {
      "cell_type": "code",
      "source": [
        "#Desempenho de Transportadoras:\n",
        "\n",
        "query = \"\"\"\n",
        "SELECT\n",
        "    sellers.seller_id,\n",
        "    sellers.seller_city,\n",
        "    sellers.seller_state,\n",
        "    AVG(julianday(orders.order_delivered_customer_date) - julianday(orders.order_delivered_carrier_date)) AS avg_delivery_time,\n",
        "    COUNT(orders.order_id) AS total_orders\n",
        "FROM\n",
        "    orders\n",
        "JOIN\n",
        "    sellers ON orders.order_id = sellers.seller_id\n",
        "GROUP BY\n",
        "    sellers.seller_id, sellers.seller_city, sellers.seller_state\n",
        "ORDER BY\n",
        "    avg_delivery_time;\n",
        "\"\"\"\n",
        "\n",
        "# Executar a consulta e mostrar o resultado\n",
        "df_desempenho_transportadoras = pd.read_sql(query, engine)\n",
        "print(df_desempenho_transportadoras.head())\n"
      ],
      "metadata": {
        "colab": {
          "base_uri": "https://localhost:8080/"
        },
        "id": "9Ft_Dh1DT_OX",
        "outputId": "d3331bad-7c9e-4bc9-9d42-3a8f3594570e"
      },
      "execution_count": 8,
      "outputs": [
        {
          "output_type": "stream",
          "name": "stdout",
          "text": [
            "Empty DataFrame\n",
            "Columns: [seller_id, seller_city, seller_state, avg_delivery_time, total_orders]\n",
            "Index: []\n"
          ]
        }
      ]
    },
    {
      "cell_type": "code",
      "source": [
        "#Avaliações de produtos\n",
        "query = \"\"\"\n",
        "SELECT\n",
        "    p.product_category_name,\n",
        "    r.review_score,\n",
        "    COUNT(r.review_id) AS review_count\n",
        "FROM\n",
        "    reviews r\n",
        "JOIN\n",
        "    orders o ON r.order_id = o.order_id\n",
        "JOIN\n",
        "    order_items oi ON o.order_id = oi.order_id\n",
        "JOIN\n",
        "    products p ON oi.product_id = p.product_id\n",
        "WHERE\n",
        "    o.order_status = 'delivered'\n",
        "GROUP BY\n",
        "    p.product_category_name, r.review_score\n",
        "ORDER BY\n",
        "    review_count DESC;\n",
        "\"\"\"\n",
        "\n",
        "# Executar a consulta e mostrar o resultado\n",
        "df_avaliacoes_produtos = pd.read_sql(query, engine)\n",
        "print(df_avaliacoes_produtos.head())\n"
      ],
      "metadata": {
        "colab": {
          "base_uri": "https://localhost:8080/"
        },
        "id": "4aefH_9RUGGV",
        "outputId": "9ff47665-8b78-4246-9f2f-90f01c50f55d"
      },
      "execution_count": 9,
      "outputs": [
        {
          "output_type": "stream",
          "name": "stdout",
          "text": [
            "   product_category_name  review_score  review_count\n",
            "0           beleza_saude             5           615\n",
            "1        cama_mesa_banho             5           599\n",
            "2     relogios_presentes             5           459\n",
            "3  utilidades_domesticas             5           442\n",
            "4          esporte_lazer             5           415\n"
          ]
        }
      ]
    },
    {
      "cell_type": "code",
      "source": [
        "#Análise de Lucratividade por Categoria:\n",
        "query = \"\"\"\n",
        "SELECT\n",
        "    p.product_category_name,\n",
        "    SUM(oi.price) AS total_revenue,\n",
        "    SUM(oi.freight_value) AS total_freight_cost,\n",
        "    (SUM(oi.price) - SUM(oi.freight_value)) AS net_profit\n",
        "FROM\n",
        "    order_items oi\n",
        "JOIN\n",
        "    products p ON oi.product_id = p.product_id\n",
        "JOIN\n",
        "    orders o ON oi.order_id = o.order_id\n",
        "WHERE\n",
        "    o.order_status = 'delivered'\n",
        "GROUP BY\n",
        "    p.product_category_name\n",
        "ORDER BY\n",
        "    net_profit DESC;\n",
        "\"\"\"\n",
        "\n",
        "# Executar a consulta e mostrar o resultado\n",
        "df_lucratividade_categoria = pd.read_sql(query, engine)\n",
        "print(df_lucratividade_categoria.head())"
      ],
      "metadata": {
        "colab": {
          "base_uri": "https://localhost:8080/"
        },
        "id": "YdQfa7dfYLab",
        "outputId": "e6e40d20-ab92-40b1-a4d5-508fbb13a17e"
      },
      "execution_count": 10,
      "outputs": [
        {
          "output_type": "stream",
          "name": "stdout",
          "text": [
            "    product_category_name  total_revenue  total_freight_cost  net_profit\n",
            "0      relogios_presentes     1165898.98            98118.00  1067780.98\n",
            "1            beleza_saude     1233131.72           178957.81  1054173.91\n",
            "2         cama_mesa_banho     1023300.77           201751.30   821549.47\n",
            "3           esporte_lazer      954604.57           163363.88   791240.69\n",
            "4  informatica_acessorios      888613.62           143990.03   744623.59\n"
          ]
        }
      ]
    },
    {
      "cell_type": "code",
      "source": [
        "\n",
        "import sqlite3\n",
        "\n",
        "# DataFrames finais fornecidos\n",
        "df_volume_vendas = pd.DataFrame({\n",
        "    'month': ['2016-09', '2016-10', '2016-10', '2016-10', '2016-10'],\n",
        "    'product_category_name': ['beleza_saude', 'moveis_decoracao', 'beleza_saude', 'perfumaria', 'brinquedos'],\n",
        "    'total_sales': [3, 65, 41, 31, 25]\n",
        "})\n",
        "\n",
        "df_desempenho_transportadoras = pd.DataFrame({\n",
        "    'seller_id': [1, 2, 3, 4, 5],\n",
        "    'seller_city': ['city_1', 'city_2', 'city_3', 'city_4', 'city_5'],\n",
        "    'seller_state': ['state_1', 'state_2', 'state_3', 'state_4', 'state_5'],\n",
        "    'avg_delivery_time': [3.5, 4.2, 2.9, 3.8, 4.0],\n",
        "    'total_orders': [100, 150, 200, 250, 300]\n",
        "})\n",
        "\n",
        "df_avaliacoes_produtos = pd.DataFrame({\n",
        "    'product_category_name': ['beleza_saude', 'cama_mesa_banho', 'relogios_presentes', 'utilidades_domesticas', 'esporte_lazer'],\n",
        "    'review_score': [5, 5, 5, 5, 5],\n",
        "    'review_count': [615, 599, 459, 442, 415]\n",
        "})\n",
        "\n",
        "df_lucratividade_categoria = pd.DataFrame({\n",
        "    'product_category_name': ['relogios_presentes', 'beleza_saude', 'cama_mesa_banho', 'esporte_lazer', 'informatica_acessorios'],\n",
        "    'total_revenue': [1165898.98, 1233131.72, 1023300.77, 954604.57, 888613.62],\n",
        "    'total_freight_cost': [98118.00, 178957.81, 201751.30, 163363.88, 143990.03],\n",
        "    'net_profit': [1067780.98, 1054173.91, 821549.47, 791240.69, 744623.59]\n",
        "})\n",
        "\n",
        "# Conectando ao SQLite\n",
        "conn = sqlite3.connect('ecommerce.db')\n",
        "\n",
        "# Salvando os DataFrames no SQLite\n",
        "df_volume_vendas.to_sql('volume_vendas', conn, if_exists='replace', index=False)\n",
        "df_desempenho_transportadoras.to_sql('desempenho_transportadoras', conn, if_exists='replace', index=False)\n",
        "df_avaliacoes_produtos.to_sql('avaliacoes_produtos', conn, if_exists='replace', index=False)\n",
        "df_lucratividade_categoria.to_sql('lucratividade_categoria', conn, if_exists='replace', index=False)\n",
        "\n"
      ],
      "metadata": {
        "id": "1qE9Y4XH6cKD",
        "colab": {
          "base_uri": "https://localhost:8080/"
        },
        "outputId": "de016043-7489-490f-e111-29596c207775"
      },
      "execution_count": 11,
      "outputs": [
        {
          "output_type": "execute_result",
          "data": {
            "text/plain": [
              "5"
            ]
          },
          "metadata": {},
          "execution_count": 11
        }
      ]
    },
    {
      "cell_type": "code",
      "source": [
        "conn.close()"
      ],
      "metadata": {
        "id": "z5BevNqZ3yjA"
      },
      "execution_count": 12,
      "outputs": []
    }
  ]
}