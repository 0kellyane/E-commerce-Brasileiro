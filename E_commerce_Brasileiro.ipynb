{
  "nbformat": 4,
  "nbformat_minor": 0,
  "metadata": {
    "colab": {
      "provenance": [],
      "mount_file_id": "1wRWZuhgjDeG7NmHeGg7rq4__wAg5riHd",
      "authorship_tag": "ABX9TyMiF0DcGlCpoHMzg2MGinFj",
      "include_colab_link": true
    },
    "kernelspec": {
      "name": "python3",
      "display_name": "Python 3"
    },
    "language_info": {
      "name": "python"
    }
  },
  "cells": [
    {
      "cell_type": "markdown",
      "metadata": {
        "id": "view-in-github",
        "colab_type": "text"
      },
      "source": [
        "<a href=\"https://colab.research.google.com/github/0kellyane/E-commerce-Brasileiro/blob/main/E_commerce_Brasileiro.ipynb\" target=\"_parent\"><img src=\"https://colab.research.google.com/assets/colab-badge.svg\" alt=\"Open In Colab\"/></a>"
      ]
    },
    {
      "cell_type": "code",
      "execution_count": null,
      "metadata": {
        "id": "pw8m_vGzLKD1",
        "colab": {
          "base_uri": "https://localhost:8080/"
        },
        "collapsed": true,
        "outputId": "4efac207-8299-471d-c8bd-0c4d3c013b81"
      },
      "outputs": [
        {
          "output_type": "stream",
          "name": "stdout",
          "text": [
            "Requirement already satisfied: mysql-connector-python in /usr/local/lib/python3.10/dist-packages (8.4.0)\n"
          ]
        }
      ],
      "source": [
        "import pandas as pd\n",
        "from sqlalchemy import create_engine\n",
        "!pip install mysql-connector-python\n"
      ]
    },
    {
      "cell_type": "code",
      "source": [
        "from google.colab import drive\n",
        "drive.mount('/content/drive')"
      ],
      "metadata": {
        "colab": {
          "base_uri": "https://localhost:8080/"
        },
        "id": "JHG9GeEeqqCs",
        "outputId": "86a1b577-df1c-4ca8-a247-2b59afb2f96d"
      },
      "execution_count": null,
      "outputs": [
        {
          "output_type": "stream",
          "name": "stdout",
          "text": [
            "Drive already mounted at /content/drive; to attempt to forcibly remount, call drive.mount(\"/content/drive\", force_remount=True).\n"
          ]
        }
      ]
    },
    {
      "cell_type": "code",
      "source": [
        "# Carregamento dos arquivos CSV\n",
        "olist_products = pd.read_csv('drive/MyDrive/Ecommerce/olist_products_dataset.csv')\n",
        "olist_order_items = pd.read_csv('drive/MyDrive/Ecommerce/olist_order_items_dataset.csv')\n",
        "olist_customers = pd.read_csv('drive/MyDrive/Ecommerce/olist_customers_dataset.csv')\n",
        "olist_geolocation = pd.read_csv('drive/MyDrive/Ecommerce/olist_geolocation_dataset.csv')\n",
        "olist_order_reviews = pd.read_csv('drive/MyDrive/Ecommerce/olist_order_reviews_dataset.csv')\n",
        "olist_order_payments = pd.read_csv('drive/MyDrive/Ecommerce/olist_order_payments_dataset.csv')\n",
        "olist_sellers = pd.read_csv('drive/MyDrive/Ecommerce/olist_sellers_dataset.csv')\n",
        "olist_orders = pd.read_csv('drive/MyDrive/Ecommerce/olist_orders_dataset.csv')"
      ],
      "metadata": {
        "id": "wVGXzxZ2sdB8"
      },
      "execution_count": null,
      "outputs": []
    },
    {
      "cell_type": "code",
      "source": [],
      "metadata": {
        "id": "vGiNMxP9W_Y_"
      },
      "execution_count": null,
      "outputs": []
    },
    {
      "cell_type": "code",
      "source": [
        "# Selecionando as colunas que preciso\n",
        "olist_products = pd.DataFrame([['product_id', 'product_category_name']])\n",
        "olist_order_items = pd.DataFrame([['order_id','product_id', 'seller_id', 'order_item_id','price']])\n",
        "olist_customers = pd.DataFrame([['customer_id', 'geolocation_zip_code_prefix', 'customer_city', 'customer_data']])\n",
        "olist_geolocation = pd.DataFrame([['geolocation_zip_code_prefix', 'geolocation_city', 'geolocation_state']])\n",
        "olist_order_reviews = pd.DataFrame([['review_id', 'order_id', 'review_score', 'review_comment_message']])\n",
        "olist_order_payments = pd.DataFrame([['order_id', 'payment_type', 'payment_value']])\n",
        "olist_sellers = pd.DataFrame([['seller_id', 'seller_city', 'seller_state']])\n",
        "olist_orders = pd.DataFrame([['order_id', 'customer_id', 'order_status']])\n"
      ],
      "metadata": {
        "collapsed": true,
        "id": "3ysZFqvBupze"
      },
      "execution_count": null,
      "outputs": []
    },
    {
      "cell_type": "code",
      "source": [
        "#fazendo as remoções de dados ausentes\n",
        "olist_products = olist_products.dropna()\n",
        "olist_order_items = olist_order_items.dropna()\n",
        "olist_customers = olist_customers.dropna()\n",
        "olist_geolocation = olist_geolocation.dropna()\n",
        "olist_order_reviews = olist_order_reviews.dropna()\n",
        "olist_order_payments = olist_order_payments.dropna()\n",
        "olist_sellers = olist_sellers.dropna()\n",
        "olist_orders = olist_orders.dropna()\n",
        "\n",
        "# Visualizando o resultado\n",
        "print(olist_products)"
      ],
      "metadata": {
        "id": "HforHbwq0eP1",
        "colab": {
          "base_uri": "https://localhost:8080/"
        },
        "outputId": "9c556dab-2290-4833-fd1f-1af8199e2306"
      },
      "execution_count": null,
      "outputs": [
        {
          "output_type": "stream",
          "name": "stdout",
          "text": [
            "            0                      1\n",
            "0  product_id  product_category_name\n"
          ]
        }
      ]
    },
    {
      "cell_type": "code",
      "source": [
        "!pip install pymysql"
      ],
      "metadata": {
        "colab": {
          "base_uri": "https://localhost:8080/"
        },
        "id": "dxq1WCkhyQsw",
        "outputId": "bdb4a019-db01-4898-e472-866f79f4a584"
      },
      "execution_count": null,
      "outputs": [
        {
          "output_type": "stream",
          "name": "stdout",
          "text": [
            "Requirement already satisfied: pymysql in /usr/local/lib/python3.10/dist-packages (1.1.0)\n"
          ]
        }
      ]
    },
    {
      "cell_type": "code",
      "source": [
        "!pip install sqlalchemy\n",
        "!pip install pymysql\n",
        "import pandas as pd\n",
        "from sqlalchemy import create_engine\n",
        "\n",
        "# Define the connection parameters\n",
        "db_username = 'admin'\n",
        "db_host = 'ecommerce.cfsmwk4wwvfj.sa-east-1.rds.amazonaws.com'\n",
        "db_name = 'ecommerce'\n",
        "db_password = 'Caramelo120'\n",
        "db_port = 3307\n",
        "\n",
        "# Define the connection URL with the timeout\n",
        "db_url = f'mysql+pymysql://{db_username}:{db_password}@{db_host}:{db_port}/{db_name}?connect_timeout=10'\n",
        "\n",
        "# Create the SQLAlchemy engine\n",
        "engine = create_engine(db_url)\n",
        "\n",
        "# Load the dataframes into the database\n",
        "olist_products.to_sql('products', con=engine, if_exists='replace', index=False)\n",
        "olist_order_items.to_sql('order_items', con=engine, if_exists='replace', index=False)\n",
        "olist_customers.to_sql('customers', con=engine, if_exists='replace', index=False)\n",
        "olist_geolocation.to_sql('geolocation', con=engine, if_exists='replace', index=False)\n",
        "olist_order_reviews.to_sql('order_reviews', con=engine, if_exists='replace', index=False)\n",
        "olist_order_payments.to_sql('order_payments', con=engine, if_exists='replace', index=False)\n",
        "olist_sellers.to_sql('sellers', con=engine, if_exists='replace', index=False)\n",
        "olist_orders.to_sql('orders', con=engine, if_exists='replace', index=False)\n"
      ],
      "metadata": {
        "id": "hGijV4BtweiZ",
        "collapsed": true
      },
      "execution_count": null,
      "outputs": []
    }
  ]
}